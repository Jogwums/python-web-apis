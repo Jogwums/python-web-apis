{
 "cells": [
  {
   "cell_type": "code",
   "execution_count": 1,
   "metadata": {},
   "outputs": [],
   "source": [
    "import requests\n",
    "import time\n",
    "from json import JSONDecodeError\n",
    "\n",
    "def request_get_errorprone(*args, **kwargs):\n",
    "    status_code = 500\n",
    "    counter = 0\n",
    "    while status_code != 200 and counter < 10:\n",
    "        R = requests.get(*args, **kwargs)\n",
    "        status_code = R.status_code\n",
    "        if status_code == 200:\n",
    "            return R\n",
    "        else:\n",
    "            time.sleep(0.5)\n",
    "            counter += 1\n",
    "            print(\"Request attempt {} failed\".format(counter))\n",
    "    print(\"Something is wrong with this request, made 10 times, all errors\")\n",
    "    print(R.url)\n",
    "    return R\n",
    "            \n",
    "\n",
    "class OmekaSite(object):\n",
    "    \"\"\"Class provides an interface for interacting with an Omeka site\"\"\"\n",
    "    def __init__(self, url, api_key):\n",
    "        url = url.strip('/')\n",
    "        if url[-3:] != \"api\":\n",
    "            url += \"/api\"\n",
    "        self.url = url\n",
    "        self.api_key = api_key\n",
    "    def get_element_set(self, name):\n",
    "        try:\n",
    "            sets_request = request_get_errorprone(self.url+\"/element_sets\")\n",
    "            element_sets = sets_request.json()\n",
    "        except JSONDecodeError:\n",
    "            return sets_request\n",
    "        for es in element_sets:\n",
    "            if es['name'] == name:\n",
    "                elements_request = request_get_errorprone(self.url+\"/elements\",params={'element_set':es['id']})\n",
    "                try:\n",
    "                    elements = elements_request.json()\n",
    "                except JSONDecodeError:\n",
    "                    return elements_request\n",
    "                output = {}\n",
    "                for e in elements:\n",
    "                    output[e['name'].lower()] = e\n",
    "                return output\n",
    "        return None\n",
    "    def make_element_set_lookup(self, name):\n",
    "        element_set = self.get_element_set(name)\n",
    "        lookup = {}\n",
    "        for k,v in element_set.items():\n",
    "            key = \"{}::{}\".format(name,v['name'])\n",
    "            value = v['id']\n",
    "            lookup[key] = value\n",
    "        return lookup\n",
    "    def item_element(self,element_id,text,html=False):\n",
    "        element = {\"text\":text,\"html\":html,\"element\":{\"id\":element_id}}\n",
    "        return element\n",
    "    def make_item(self,element_list,public=False,featured=False):\n",
    "        item = {\"public\":public, \"featured\":featured, \"element_texts\":element_list}\n",
    "        return item\n",
    "    def item_from_librarycloud(self, lc_result):\n",
    "        dc_lookup = self.make_element_set_lookup(\"Dublin Core\")\n",
    "        iiif_lookup = self.make_element_set_lookup(\"IIIF Item Metadata\")\n",
    "        print(iiif_lookup)\n",
    "        item = {\"public\":False,\"featured\":False,\"element_texts\":[]}\n",
    "        for k,v in lc_result.dc_data.items():\n",
    "            lookup_key = \"Dublin Core::{}\".format(k.capitalize())\n",
    "            element_id = dc_lookup[lookup_key]\n",
    "            if type(v) == list:\n",
    "                for text in v:\n",
    "                    item['element_texts'].append(self.item_element(element_id,text))\n",
    "            else:\n",
    "                item['element_texts'].append(self.item_element(element_id,v))\n",
    "        canvas_element = self.item_element(iiif_lookup['IIIF Item Metadata::JSON Data'],lc_result.canvas)\n",
    "        item['element_texts'].append(canvas_element)\n",
    "        return item\n",
    "    def post_item(self,item):\n",
    "        endpoint = self.url + \"/items\"\n",
    "        R = requests.post(endpoint,json=item,params={'key':self.api_key})\n",
    "        try:\n",
    "            return R.json()\n",
    "        except:\n",
    "            return R"
   ]
  },
  {
   "cell_type": "code",
   "execution_count": 2,
   "metadata": {},
   "outputs": [],
   "source": [
    "site = OmekaSite(\"https://cb51.omeka.fas.harvard.edu\",\"630d3045363b980294b3fed669f37c67d785bb9b\")"
   ]
  },
  {
   "cell_type": "code",
   "execution_count": 3,
   "metadata": {},
   "outputs": [],
   "source": [
    "lookup = site.make_element_set_lookup(\"Dublin Core\")"
   ]
  },
  {
   "cell_type": "code",
   "execution_count": 4,
   "metadata": {},
   "outputs": [],
   "source": [
    "lookup.update(site.make_element_set_lookup(\"IIIF Item Metadata\"))\n",
    "lookup.update(site.make_element_set_lookup(\"IIIF File Metadata\"))"
   ]
  },
  {
   "cell_type": "code",
   "execution_count": 5,
   "metadata": {},
   "outputs": [
    {
     "data": {
      "text/plain": [
       "{'Dublin Core::Contributor': 37,\n",
       " 'Dublin Core::Coverage': 38,\n",
       " 'Dublin Core::Creator': 39,\n",
       " 'Dublin Core::Date': 40,\n",
       " 'Dublin Core::Description': 41,\n",
       " 'Dublin Core::Format': 42,\n",
       " 'Dublin Core::Identifier': 43,\n",
       " 'Dublin Core::Language': 44,\n",
       " 'Dublin Core::Publisher': 45,\n",
       " 'Dublin Core::Relation': 46,\n",
       " 'Dublin Core::Rights': 47,\n",
       " 'Dublin Core::Source': 48,\n",
       " 'Dublin Core::Subject': 49,\n",
       " 'Dublin Core::Title': 50,\n",
       " 'Dublin Core::Type': 51,\n",
       " 'IIIF File Metadata::JSON Data': 53,\n",
       " 'IIIF File Metadata::Original @id': 52,\n",
       " 'IIIF Item Metadata::Display as IIIF?': 54,\n",
       " 'IIIF Item Metadata::JSON Data': 56,\n",
       " 'IIIF Item Metadata::Original @id': 55,\n",
       " 'IIIF Item Metadata::UUID': 64}"
      ]
     },
     "execution_count": 5,
     "metadata": {},
     "output_type": "execute_result"
    }
   ],
   "source": [
    "lookup"
   ]
  },
  {
   "cell_type": "code",
   "execution_count": 6,
   "metadata": {},
   "outputs": [],
   "source": [
    "endpoint = \"https://api.harvardartmuseums.org/\"\n",
    "apikey = \"b0cde630-ce66-11e8-951c-b3d75228cc98\""
   ]
  },
  {
   "cell_type": "code",
   "execution_count": 7,
   "metadata": {},
   "outputs": [],
   "source": [
    "Q = {\"apikey\":apikey,\"q\":\"objectnumber:BR65.56\"}\n",
    "R = requests.get(endpoint+\"object\",params=Q)"
   ]
  },
  {
   "cell_type": "code",
   "execution_count": 8,
   "metadata": {},
   "outputs": [],
   "source": [
    "def get_record(objectnumber):\n",
    "    Q = {\"apikey\":apikey,\"q\":\"objectnumber:{}\".format(objectnumber)}\n",
    "    R = requests.get(endpoint+\"object\",params=Q)\n",
    "    results = R.json()\n",
    "    if results['info']['totalrecords'] > 1:\n",
    "        print(\"more than one result for{}, taking first anyways\".format(objectnumber))\n",
    "    record = results['records'][0]\n",
    "    return record"
   ]
  },
  {
   "cell_type": "code",
   "execution_count": 9,
   "metadata": {},
   "outputs": [],
   "source": [
    "def get_objects(endpoint,apikey,**kwargs):\n",
    "    Q = kwargs\n",
    "    Q['apikey'] = apikey\n",
    "    Q['page'] = 1\n",
    "    R = requests.get(endpoint+\"object\",params=Q)\n",
    "    results = R.json()\n",
    "    print(\"got results from {}\".format(R.url))\n",
    "    Q['page'] += 1\n",
    "    while Q['page'] <= results['info']['pages']:\n",
    "        newResults = requests.get(endpoint+\"object\",params=Q)\n",
    "        results['records'].extend(newResults.json()['records'])\n",
    "        Q['page'] += 1\n",
    "        print(\"got results from {}\".format(newResults.url))\n",
    "    return results"
   ]
  },
  {
   "cell_type": "code",
   "execution_count": 10,
   "metadata": {},
   "outputs": [
    {
     "name": "stdout",
     "output_type": "stream",
     "text": [
      "got results from https://api.harvardartmuseums.org/object?exhibition=5295&apikey=b0cde630-ce66-11e8-951c-b3d75228cc98&page=1\n",
      "got results from https://api.harvardartmuseums.org/object?exhibition=5295&apikey=b0cde630-ce66-11e8-951c-b3d75228cc98&page=2\n",
      "got results from https://api.harvardartmuseums.org/object?exhibition=5295&apikey=b0cde630-ce66-11e8-951c-b3d75228cc98&page=3\n",
      "got results from https://api.harvardartmuseums.org/object?exhibition=5295&apikey=b0cde630-ce66-11e8-951c-b3d75228cc98&page=4\n",
      "got results from https://api.harvardartmuseums.org/object?exhibition=5295&apikey=b0cde630-ce66-11e8-951c-b3d75228cc98&page=5\n",
      "got results from https://api.harvardartmuseums.org/object?exhibition=5295&apikey=b0cde630-ce66-11e8-951c-b3d75228cc98&page=6\n",
      "got results from https://api.harvardartmuseums.org/object?exhibition=5295&apikey=b0cde630-ce66-11e8-951c-b3d75228cc98&page=7\n",
      "got results from https://api.harvardartmuseums.org/object?exhibition=5295&apikey=b0cde630-ce66-11e8-951c-b3d75228cc98&page=8\n"
     ]
    }
   ],
   "source": [
    "objs = get_objects(endpoint,apikey,exhibition=5295)"
   ]
  },
  {
   "cell_type": "code",
   "execution_count": 147,
   "metadata": {},
   "outputs": [
    {
     "data": {
      "text/plain": [
       "75"
      ]
     },
     "execution_count": 147,
     "metadata": {},
     "output_type": "execute_result"
    }
   ],
   "source": [
    "len(objs['records'])"
   ]
  },
  {
   "cell_type": "code",
   "execution_count": 12,
   "metadata": {},
   "outputs": [],
   "source": [
    "def get_manifest(record):\n",
    "    for see in record['seeAlso']:\n",
    "        if see['type'] == \"IIIF Manifest\":\n",
    "            manifest = requests.get(see['id']).json()\n",
    "            return manifest"
   ]
  },
  {
   "cell_type": "code",
   "execution_count": 13,
   "metadata": {},
   "outputs": [],
   "source": [
    "def get_canvas(manifest):\n",
    "    try:\n",
    "        return manifest['sequences'][0]['canvases'][0]\n",
    "    except KeyError:\n",
    "        print(manifest.keys())\n",
    "        return None"
   ]
  },
  {
   "cell_type": "code",
   "execution_count": 112,
   "metadata": {},
   "outputs": [],
   "source": [
    "R = requests.get(\"https://ids.lib.harvard.edu/ids/iiif/12463467/full/!170,170/0/native.jpg\")"
   ]
  },
  {
   "cell_type": "code",
   "execution_count": 14,
   "metadata": {},
   "outputs": [],
   "source": [
    "def create_item_from_obj_number(objectnumber,site):\n",
    "    record = get_record(objectnumber)\n",
    "    manifest = get_manifest(record)\n",
    "    canvas = get_canvas(manifest)\n",
    "    title = record['title']\n",
    "    source = \"<a href='{url}'>{creditline}</a>\".format(**record)\n",
    "    elements = []\n",
    "    elements.append(site.item_element(lookup['Dublin Core::Title'],title))\n",
    "    elements.append(site.item_element(lookup['Dublin Core::Source'],source,html=True))\n",
    "    elements.append(site.item_element(lookup['IIIF Item Metadata::JSON Data'],json.dumps(canvas)))\n",
    "    item = site.make_item(elements,public=True,featured=True)\n",
    "    added_item = site.post_item(item)\n",
    "    print(\"added item, ID {}\".format(added_item['id']))\n",
    "    thumbnail = requests.get(manifest['thumbnail']['@id']).content\n",
    "    files = {\n",
    "        \"file\":(manifest['thumbnail']['@id'], thumbnail, \"application/octet-stream\"),\n",
    "        \"data\":(None, json.dumps({\"item\":{\"id\":added_item['id']}}))\n",
    "    }\n",
    "    R = requests.post(\"https://cb51.omeka.fas.harvard.edu/api/files\", params={\"key\":\"630d3045363b980294b3fed669f37c67d785bb9b\"}, files=files)\n",
    "    return R"
   ]
  },
  {
   "cell_type": "code",
   "execution_count": 149,
   "metadata": {},
   "outputs": [
    {
     "name": "stdout",
     "output_type": "stream",
     "text": [
      "added item, id 74\n",
      "added file to item\n",
      "added item, id 75\n",
      "added file to item\n",
      "added item, id 76\n",
      "added file to item\n",
      "added item, id 77\n",
      "added file to item\n",
      "added item, id 78\n",
      "added file to item\n",
      "added item, id 79\n",
      "added file to item\n",
      "added item, id 80\n",
      "added file to item\n",
      "added item, id 81\n",
      "added file to item\n",
      "added item, id 82\n",
      "added file to item\n",
      "added item, id 83\n",
      "added file to item\n",
      "added item, id 84\n",
      "added file to item\n",
      "added item, id 85\n",
      "added file to item\n",
      "added item, id 86\n",
      "added file to item\n",
      "added item, id 87\n",
      "added file to item\n",
      "added item, id 88\n",
      "added file to item\n",
      "added item, id 89\n",
      "added file to item\n",
      "added item, id 90\n",
      "added file to item\n",
      "added item, id 91\n",
      "added file to item\n",
      "added item, id 92\n",
      "added file to item\n",
      "added item, id 93\n",
      "added file to item\n",
      "added item, id 94\n",
      "added file to item\n",
      "added item, id 95\n",
      "added file to item\n",
      "added item, id 96\n",
      "added file to item\n",
      "added item, id 97\n",
      "added file to item\n",
      "added item, id 98\n",
      "added file to item\n",
      "added item, id 99\n",
      "added file to item\n",
      "added item, id 100\n",
      "added file to item\n",
      "added item, id 101\n",
      "added file to item\n",
      "added item, id 102\n",
      "added file to item\n",
      "added item, id 103\n",
      "added file to item\n",
      "added item, id 104\n",
      "added file to item\n",
      "added item, id 105\n",
      "added file to item\n",
      "added item, id 106\n",
      "added file to item\n",
      "added item, id 107\n",
      "added file to item\n",
      "added item, id 108\n",
      "added file to item\n",
      "added item, id 109\n",
      "added file to item\n",
      "added item, id 110\n",
      "added file to item\n",
      "added item, id 111\n",
      "added file to item\n",
      "added item, id 112\n",
      "added file to item\n",
      "added item, id 113\n",
      "added file to item\n",
      "added item, id 114\n",
      "added file to item\n",
      "added item, id 115\n",
      "added file to item\n",
      "added item, id 116\n",
      "added file to item\n",
      "added item, id 117\n",
      "added file to item\n",
      "added item, id 118\n",
      "added file to item\n",
      "added item, id 119\n",
      "added file to item\n",
      "added item, id 120\n",
      "added file to item\n",
      "added item, id 121\n",
      "added file to item\n",
      "added item, id 122\n",
      "added file to item\n",
      "added item, id 123\n",
      "added file to item\n",
      "added item, id 124\n",
      "added file to item\n",
      "added item, id 125\n",
      "added file to item\n",
      "added item, id 126\n",
      "added file to item\n",
      "added item, id 127\n",
      "added file to item\n",
      "added item, id 128\n",
      "added file to item\n",
      "added item, id 129\n",
      "added file to item\n",
      "added item, id 130\n",
      "added file to item\n",
      "added item, id 131\n",
      "added file to item\n",
      "added item, id 132\n",
      "added file to item\n",
      "added item, id 133\n",
      "added file to item\n",
      "added item, id 134\n",
      "added file to item\n",
      "added item, id 135\n",
      "added file to item\n",
      "added item, id 136\n",
      "added file to item\n",
      "added item, id 137\n",
      "added file to item\n",
      "added item, id 138\n",
      "added file to item\n",
      "added item, id 139\n",
      "added file to item\n",
      "added item, id 140\n",
      "added file to item\n",
      "added item, id 141\n",
      "added file to item\n",
      "added item, id 142\n",
      "added file to item\n",
      "added item, id 143\n",
      "added file to item\n",
      "added item, id 144\n",
      "added file to item\n",
      "added item, id 145\n",
      "added file to item\n",
      "added item, id 146\n",
      "added file to item\n",
      "added item, id 147\n",
      "added file to item\n",
      "added item, id 148\n",
      "added file to item\n"
     ]
    }
   ],
   "source": [
    "for record in objs['records']:\n",
    "    manifest = get_manifest(record)\n",
    "    canvas = get_canvas(manifest)\n",
    "    title = record['title']\n",
    "    source = \"<a href='{url}'>{creditline}</a>\".format(**record)\n",
    "    description = record['description']\n",
    "    elements = []\n",
    "    elements.append(site.item_element(lookup['Dublin Core::Title'],title))\n",
    "    elements.append(site.item_element(lookup['Dublin Core::Source'],source,html=True))\n",
    "    elements.append(site.item_element(lookup['Dublin Core::Description'],description))\n",
    "    elements.append(site.item_element(lookup['IIIF Item Metadata::JSON Data'],json.dumps(canvas)))\n",
    "    item = site.make_item(elements)\n",
    "    added_item = site.post_item(item)\n",
    "    print(\"added item, id {}\".format(added_item['id']))\n",
    "    thumbnail = requests.get(manifest['thumbnail']['@id']).content\n",
    "    files = {\n",
    "        \"file\":(manifest['thumbnail']['@id'], thumbnail, \"application/octet-stream\"),\n",
    "        \"data\":(None, json.dumps({'item':{'id':added_item['id']}}))\n",
    "    }\n",
    "    R = requests.post(\"https://cb51.omeka.fas.harvard.edu/api/files\", params={\"key\":\"630d3045363b980294b3fed669f37c67d785bb9b\"}, files=files)\n",
    "    print(\"added file to item\")"
   ]
  },
  {
   "cell_type": "code",
   "execution_count": 150,
   "metadata": {},
   "outputs": [],
   "source": [
    "import pandas as pd"
   ]
  },
  {
   "cell_type": "code",
   "execution_count": 152,
   "metadata": {},
   "outputs": [],
   "source": [
    "df = pd.DataFrame(objs['records'])"
   ]
  },
  {
   "cell_type": "code",
   "execution_count": 158,
   "metadata": {},
   "outputs": [
    {
     "data": {
      "text/plain": [
       "Index(['accessionmethod', 'accessionyear', 'accesslevel', 'century',\n",
       "       'classification', 'classificationid', 'colorcount', 'colors',\n",
       "       'commentary', 'contact', 'contextualtextcount', 'copyright',\n",
       "       'creditline', 'culture', 'datebegin', 'dated', 'dateend',\n",
       "       'dateoffirstpageview', 'dateoflastpageview', 'department',\n",
       "       'description', 'dimensions', 'division', 'edition', 'exhibitioncount',\n",
       "       'groupcount', 'id', 'imagecount', 'imagepermissionlevel', 'images',\n",
       "       'labeltext', 'lastupdate', 'markscount', 'mediacount', 'medium',\n",
       "       'objectid', 'objectnumber', 'people', 'peoplecount', 'period',\n",
       "       'periodid', 'primaryimageurl', 'provenance', 'publicationcount', 'rank',\n",
       "       'relatedcount', 'seeAlso', 'signed', 'standardreferencenumber', 'state',\n",
       "       'style', 'technique', 'techniqueid', 'title', 'titlescount',\n",
       "       'totalpageviews', 'totaluniquepageviews', 'url', 'verificationlevel',\n",
       "       'verificationleveldescription', 'worktypes'],\n",
       "      dtype='object')"
      ]
     },
     "execution_count": 158,
     "metadata": {},
     "output_type": "execute_result"
    }
   ],
   "source": [
    "df.columns"
   ]
  },
  {
   "cell_type": "code",
   "execution_count": 161,
   "metadata": {},
   "outputs": [],
   "source": [
    "df = df[['accessionmethod', 'accessionyear', 'accesslevel', 'century',\n",
    "       'classification', 'classificationid', 'colorcount',\n",
    "       'commentary', 'contact', 'contextualtextcount', 'copyright',\n",
    "       'creditline', 'culture', 'datebegin', 'dated', 'dateend',\n",
    "       'dateoffirstpageview', 'dateoflastpageview', 'department',\n",
    "       'description', 'dimensions', 'division', 'edition', 'exhibitioncount',\n",
    "       'groupcount', 'id', 'imagecount', 'imagepermissionlevel',\n",
    "       'labeltext', 'lastupdate', 'markscount', 'mediacount', 'medium',\n",
    "       'objectid', 'objectnumber', 'people', 'peoplecount', 'period',\n",
    "       'periodid', 'primaryimageurl', 'provenance', 'publicationcount', 'rank',\n",
    "       'relatedcount', 'signed', 'standardreferencenumber', 'state',\n",
    "       'style', 'technique', 'techniqueid', 'title', 'titlescount',\n",
    "       'totalpageviews', 'totaluniquepageviews', 'url', 'verificationlevel',\n",
    "       'verificationleveldescription']]"
   ]
  },
  {
   "cell_type": "code",
   "execution_count": 162,
   "metadata": {},
   "outputs": [],
   "source": [
    "df.to_csv(\"animal_vessels.csv\")"
   ]
  },
  {
   "cell_type": "code",
   "execution_count": 129,
   "metadata": {},
   "outputs": [
    {
     "name": "stdout",
     "output_type": "stream",
     "text": [
      "added item, ID 31\n"
     ]
    }
   ],
   "source": [
    "response = create_item_from_obj_number(\"1970.44\",site)"
   ]
  },
  {
   "cell_type": "code",
   "execution_count": 16,
   "metadata": {},
   "outputs": [
    {
     "name": "stdout",
     "output_type": "stream",
     "text": [
      "added item, ID 150\n"
     ]
    }
   ],
   "source": [
    "import json\n",
    "objects = [\n",
    "    \"1975.41.138\"\n",
    "]\n",
    "for obj in objects:\n",
    "    create_item_from_obj_number(obj,site)"
   ]
  },
  {
   "cell_type": "code",
   "execution_count": 126,
   "metadata": {},
   "outputs": [
    {
     "data": {
      "text/plain": [
       "requests.models.Response"
      ]
     },
     "execution_count": 126,
     "metadata": {},
     "output_type": "execute_result"
    }
   ],
   "source": [
    "type(response)"
   ]
  },
  {
   "cell_type": "code",
   "execution_count": 127,
   "metadata": {},
   "outputs": [
    {
     "data": {
      "text/plain": [
       "'{\"id\":23,\"url\":\"https:\\\\/\\\\/cb51.omeka.fas.harvard.edu\\\\/api\\\\/files\\\\/23\",\"file_urls\":{\"original\":\"http:\\\\/\\\\/s3.amazonaws.com\\\\/oaas-files%2Fcb51%2Foriginal%2F477e534fd94bf8d9cb0bb2771db72384.jpg\",\"fullsize\":\"http:\\\\/\\\\/s3.amazonaws.com\\\\/oaas-files%2Fcb51%2Ffullsize%2F477e534fd94bf8d9cb0bb2771db72384.jpg\",\"thumbnail\":\"http:\\\\/\\\\/s3.amazonaws.com\\\\/oaas-files%2Fcb51%2Fthumbnails%2F477e534fd94bf8d9cb0bb2771db72384.jpg\",\"square_thumbnail\":\"http:\\\\/\\\\/s3.amazonaws.com\\\\/oaas-files%2Fcb51%2Fsquare_thumbnails%2F477e534fd94bf8d9cb0bb2771db72384.jpg\"},\"added\":\"2018-10-17T15:39:10+00:00\",\"modified\":\"2018-10-17T15:39:11+00:00\",\"filename\":\"477e534fd94bf8d9cb0bb2771db72384.jpg\",\"authentication\":\"10399f3f747a4849c4a2b15acb48a598\",\"has_derivative_image\":true,\"mime_type\":\"image\\\\/jpeg\",\"order\":null,\"original_filename\":\"native.jpg\",\"size\":7944,\"stored\":true,\"type_os\":\"JPEG image data, JFIF standard 1.01, aspect ratio, density 1x1, segment length 16, baseline, precision 8, 116x170, frames 3\",\"metadata\":{\"mime_type\":\"image\\\\/jpeg\",\"video\":{\"dataformat\":\"jpg\",\"lossless\":false,\"bits_per_sample\":24,\"pixel_aspect_ratio\":1,\"resolution_x\":116,\"resolution_y\":170,\"compression_ratio\":0.1342799188641}},\"item\":{\"id\":30,\"url\":\"https:\\\\/\\\\/cb51.omeka.fas.harvard.edu\\\\/api\\\\/items\\\\/30\",\"resource\":\"items\"},\"element_texts\":[],\"extended_resources\":[]}'"
      ]
     },
     "execution_count": 127,
     "metadata": {},
     "output_type": "execute_result"
    }
   ],
   "source": [
    "response.text"
   ]
  },
  {
   "cell_type": "code",
   "execution_count": 81,
   "metadata": {},
   "outputs": [],
   "source": [
    "item = {\"item\":{\"id\":\"24\"}}\n",
    "files = {\n",
    "    \"file\":(\"1200px-US_Capitol_west_side.jpg\", open(\"/Users/jguillette/Pictures/1200px-US_Capitol_west_side.jpg\",\"rb\"),\"application/octet-stream\"),\n",
    "    \"data\":(None, json.dumps(item), \"application/json\")\n",
    "}\n",
    "R = requests.post(\"https://cb51.omeka.fas.harvard.edu/api/files\", params={\"key\":\"630d3045363b980294b3fed669f37c67d785bb9b\"}, files=files, data=old)"
   ]
  },
  {
   "cell_type": "code",
   "execution_count": 108,
   "metadata": {},
   "outputs": [],
   "source": [
    "item = item_from_obj_number('1970.44')"
   ]
  },
  {
   "cell_type": "code",
   "execution_count": 109,
   "metadata": {},
   "outputs": [
    {
     "data": {
      "text/plain": [
       "{'element_texts': [{'element': {'id': 50},\n",
       "   'html': False,\n",
       "   'text': 'Annunciation'},\n",
       "  {'element': {'id': 48},\n",
       "   'html': False,\n",
       "   'text': \"<a href='https://www.harvardartmuseums.org/collections/object/227811'>Harvard Art Museums/Fogg Museum, Anonymous Gift</a>\"},\n",
       "  {'element': {'id': 53},\n",
       "   'html': False,\n",
       "   'text': '{\"@id\": \"https://iiif.harvardartmuseums.org/manifests/object/227811/canvas/canvas-12463467\", \"@type\": \"sc:Canvas\", \"height\": 1024, \"images\": [{\"@id\": \"https://iiif.harvardartmuseums.org/manifests/object/227811/annotation/anno-12463467\", \"@type\": \"oa:Annotation\", \"motivation\": \"sc:painting\", \"on\": \"https://iiif.harvardartmuseums.org/manifests/object/227811/canvas/canvas-12463467\", \"resource\": {\"@id\": \"https://ids.lib.harvard.edu/ids/iiif/12463467/full/full/0/native.jpg\", \"@type\": \"dctypes:Image\", \"format\": \"image/jpeg\", \"height\": 1024, \"service\": {\"@context\": \"http://iiif.io/api/image/2/context.json\", \"@id\": \"https://ids.lib.harvard.edu/ids/iiif/12463467\", \"profile\": \"http://iiif.io/api/image/2/level2.json\"}, \"width\": 704}}], \"label\": \"1\", \"otherContent\": [{\"@id\": \"https://iiif.harvardartmuseums.org/manifests/object/227811/list/12463467\", \"@type\": \"sc:AnnotationList\"}], \"width\": 704}'}],\n",
       " 'featured': False,\n",
       " 'public': False}"
      ]
     },
     "execution_count": 109,
     "metadata": {},
     "output_type": "execute_result"
    }
   ],
   "source": [
    "item"
   ]
  },
  {
   "cell_type": "code",
   "execution_count": 90,
   "metadata": {},
   "outputs": [],
   "source": [
    "manifest = get_manifest(test)"
   ]
  },
  {
   "cell_type": "code",
   "execution_count": 95,
   "metadata": {},
   "outputs": [
    {
     "data": {
      "text/plain": [
       "{'@id': 'https://iiif.harvardartmuseums.org/manifests/object/223185/canvas/canvas-20684286',\n",
       " '@type': 'sc:Canvas',\n",
       " 'height': 801,\n",
       " 'images': [{'@id': 'https://iiif.harvardartmuseums.org/manifests/object/223185/annotation/anno-20684286',\n",
       "   '@type': 'oa:Annotation',\n",
       "   'motivation': 'sc:painting',\n",
       "   'on': 'https://iiif.harvardartmuseums.org/manifests/object/223185/canvas/canvas-20684286',\n",
       "   'resource': {'@id': 'https://ids.lib.harvard.edu/ids/iiif/20684286/full/full/0/native.jpg',\n",
       "    '@type': 'dctypes:Image',\n",
       "    'format': 'image/jpeg',\n",
       "    'height': 801,\n",
       "    'service': {'@context': 'http://iiif.io/api/image/2/context.json',\n",
       "     '@id': 'https://ids.lib.harvard.edu/ids/iiif/20684286',\n",
       "     'profile': 'http://iiif.io/api/image/2/level2.json'},\n",
       "    'width': 1024}}],\n",
       " 'label': 'center\\r\\n',\n",
       " 'otherContent': [{'@id': 'https://iiif.harvardartmuseums.org/manifests/object/223185/list/20684286',\n",
       "   '@type': 'sc:AnnotationList'}],\n",
       " 'width': 1024}"
      ]
     },
     "execution_count": 95,
     "metadata": {},
     "output_type": "execute_result"
    }
   ],
   "source": [
    "manifest['sequences'][0]['canvases'][0]"
   ]
  },
  {
   "cell_type": "code",
   "execution_count": 18,
   "metadata": {},
   "outputs": [],
   "source": [
    "test = get_record(\"BR58.212\")"
   ]
  },
  {
   "cell_type": "code",
   "execution_count": 97,
   "metadata": {},
   "outputs": [
    {
     "data": {
      "text/plain": [
       "{'accessionmethod': 'Purchase',\n",
       " 'accessionyear': 1958,\n",
       " 'accesslevel': 1,\n",
       " 'century': '7th century',\n",
       " 'classification': 'Jewelry',\n",
       " 'classificationid': 19,\n",
       " 'colorcount': 0,\n",
       " 'commentary': None,\n",
       " 'contact': 'am_europeanamerican@harvard.edu',\n",
       " 'contextualtextcount': 0,\n",
       " 'copyright': None,\n",
       " 'creditline': 'Harvard Art Museums/Busch-Reisinger Museum, Purchase in memory of Eda K. Loeb',\n",
       " 'culture': 'German',\n",
       " 'datebegin': 0,\n",
       " 'dated': '7th century',\n",
       " 'dateend': 0,\n",
       " 'dateoffirstpageview': '2011-08-18',\n",
       " 'dateoflastpageview': '2014-03-01',\n",
       " 'department': 'Busch-Reisinger Museum',\n",
       " 'description': None,\n",
       " 'dimensions': 'irregular: 6.5 cm (2 9/16 in.)',\n",
       " 'division': 'European and American Art',\n",
       " 'edition': None,\n",
       " 'exhibitioncount': 2,\n",
       " 'groupcount': 0,\n",
       " 'id': 223185,\n",
       " 'imagecount': 1,\n",
       " 'imagepermissionlevel': 0,\n",
       " 'images': [{'baseimageurl': 'https://nrs.harvard.edu/urn-3:HUAM:VRS64032_dynmc',\n",
       "   'copyright': 'President and Fellows of Harvard College',\n",
       "   'displayorder': 1,\n",
       "   'format': 'image/jpeg',\n",
       "   'height': 0,\n",
       "   'idsid': 20684286,\n",
       "   'iiifbaseuri': 'https://ids.lib.harvard.edu/ids/iiif/20684286',\n",
       "   'imageid': 19613,\n",
       "   'publiccaption': 'center\\r\\n',\n",
       "   'renditionnumber': '64032',\n",
       "   'width': 0}],\n",
       " 'labeltext': None,\n",
       " 'lastupdate': '2018-10-15T04:48:21-0400',\n",
       " 'markscount': 0,\n",
       " 'mediacount': 0,\n",
       " 'medium': 'Bronze',\n",
       " 'objectid': 223185,\n",
       " 'objectnumber': 'BR58.212',\n",
       " 'people': [{'alphasort': 'Unidentified Artist',\n",
       "   'birthplace': None,\n",
       "   'culture': None,\n",
       "   'deathplace': None,\n",
       "   'displaydate': None,\n",
       "   'displayname': 'Unidentified Artist',\n",
       "   'displayorder': 1,\n",
       "   'gender': 'unknown',\n",
       "   'name': 'Unidentified Artist',\n",
       "   'personid': 34147,\n",
       "   'prefix': None,\n",
       "   'role': 'Artist'}],\n",
       " 'peoplecount': 1,\n",
       " 'period': None,\n",
       " 'periodid': None,\n",
       " 'primaryimageurl': 'https://nrs.harvard.edu/urn-3:HUAM:VRS64032_dynmc',\n",
       " 'provenance': None,\n",
       " 'publicationcount': 0,\n",
       " 'rank': 148342,\n",
       " 'relatedcount': 0,\n",
       " 'seeAlso': [{'format': 'application/json',\n",
       "   'id': 'https://iiif.harvardartmuseums.org/manifests/object/223185',\n",
       "   'profile': 'http://iiif.io/api/presentation/2/context.json',\n",
       "   'type': 'IIIF Manifest'}],\n",
       " 'signed': None,\n",
       " 'standardreferencenumber': None,\n",
       " 'state': None,\n",
       " 'style': None,\n",
       " 'technique': None,\n",
       " 'techniqueid': None,\n",
       " 'title': 'Pendant of Three Snakes',\n",
       " 'titlescount': 1,\n",
       " 'totalpageviews': 19,\n",
       " 'totaluniquepageviews': 13,\n",
       " 'url': 'https://www.harvardartmuseums.org/collections/object/223185',\n",
       " 'verificationlevel': 3,\n",
       " 'verificationleveldescription': 'Good. Object is well described and information is vetted',\n",
       " 'worktypes': [{'worktype': 'pendant', 'worktypeid': '255'}]}"
      ]
     },
     "execution_count": 97,
     "metadata": {},
     "output_type": "execute_result"
    }
   ],
   "source": [
    "test"
   ]
  },
  {
   "cell_type": "code",
   "execution_count": 35,
   "metadata": {},
   "outputs": [
    {
     "data": {
      "text/plain": [
       "[{'element': {'id': 50}, 'html': False, 'text': 'Pendant of Three Snakes'},\n",
       " {'element': {'id': 48},\n",
       "  'html': True,\n",
       "  'text': \"<a href='https://www.harvardartmuseums.org/collections/object/223185'>Harvard Art Museums</a>\"},\n",
       " {'element': {'id': 53},\n",
       "  'html': False,\n",
       "  'text': '{\"@context\": \"http://iiif.io/api/presentation/2/context.json\", \"@id\": \"https://iiif.harvardartmuseums.org/manifests/object/223185\", \"@type\": \"sc:Manifest\", \"attribution\": \"Harvard Art Museums\", \"description\": \"\", \"label\": \"Pendant of Three Snakes\", \"logo\": {\"@id\": \"https://ids.lib.harvard.edu/ids/iiif/437958013/full/!800,800/0/native.jpg\", \"service\": {\"@context\": \"http://iiif.io/api/image/2/context.json\", \"@id\": \"https://ids.lib.harvard.edu/ids/iiif/437958013\", \"profile\": \"http://iiif.io/api/image/2/level2.json\"}}, \"metadata\": [{\"label\": \"Date\", \"value\": \"7th century\"}, {\"label\": \"Classification\", \"value\": \"Jewelry\"}, {\"label\": \"Credit Line\", \"value\": \"Harvard Art Museums/Busch-Reisinger Museum, Purchase in memory of Eda K. Loeb\"}, {\"label\": \"Object Number\", \"value\": \"BR58.212\"}, {\"label\": \"People\", \"value\": [\"Artist: Unidentified Artist\"]}, {\"label\": \"Medium\", \"value\": \"Bronze\"}, {\"label\": \"Dimensions\", \"value\": \"irregular: 6.5 cm (2 9/16 in.)\"}], \"rendering\": {\"@id\": \"https://www.harvardartmuseums.org/collections/object/223185\", \"format\": \"text/html\", \"label\": \"Full record view\"}, \"sequences\": [{\"@id\": \"https://iiif.harvardartmuseums.org/manifests/object/223185/sequence/normal\", \"@type\": \"sc:Sequence\", \"canvases\": [{\"@id\": \"https://iiif.harvardartmuseums.org/manifests/object/223185/canvas/canvas-20684286\", \"@type\": \"sc:Canvas\", \"height\": 801, \"images\": [{\"@id\": \"https://iiif.harvardartmuseums.org/manifests/object/223185/annotation/anno-20684286\", \"@type\": \"oa:Annotation\", \"motivation\": \"sc:painting\", \"on\": \"https://iiif.harvardartmuseums.org/manifests/object/223185/canvas/canvas-20684286\", \"resource\": {\"@id\": \"https://ids.lib.harvard.edu/ids/iiif/20684286/full/full/0/native.jpg\", \"@type\": \"dctypes:Image\", \"format\": \"image/jpeg\", \"height\": 801, \"service\": {\"@context\": \"http://iiif.io/api/image/2/context.json\", \"@id\": \"https://ids.lib.harvard.edu/ids/iiif/20684286\", \"profile\": \"http://iiif.io/api/image/2/level2.json\"}, \"width\": 1024}}], \"label\": \"center\\\\r\\\\n\", \"otherContent\": [{\"@id\": \"https://iiif.harvardartmuseums.org/manifests/object/223185/list/20684286\", \"@type\": \"sc:AnnotationList\"}], \"width\": 1024}], \"viewingHint\": \"individuals\"}], \"thumbnail\": {\"@id\": \"https://ids.lib.harvard.edu/ids/iiif/20684286/full/!170,170/0/native.jpg\", \"service\": {\"@context\": \"http://iiif.io/api/image/2/context.json\", \"@id\": \"https://ids.lib.harvard.edu/ids/iiif/20684286\", \"profile\": \"http://iiif.io/api/image/2/level2.json\"}}, \"within\": \"https://www.harvardartmuseums.org/collections\"}'}]"
      ]
     },
     "execution_count": 35,
     "metadata": {},
     "output_type": "execute_result"
    }
   ],
   "source": [
    "elements = []\n",
    "elements.append(site.item_element(lookup['Dublin Core::Title'],test['title']))\n",
    "elements.append(site.item_element(lookup['Dublin Core::Source'],\"<a href='https://www.harvardartmuseums.org/collections/object/{}'>Harvard Art Museums</a>\".format(test['objectid']),html=True))\n",
    "manifest = \"\"\n",
    "for see in test['seeAlso']:\n",
    "    if see['type'] == \"IIIF Manifest\":\n",
    "        manifest = requests.get(see['id']).text\n",
    "elements.append(site.item_element(lookup['IIIF File Metadata::JSON Data'], manifest))\n",
    "elements"
   ]
  },
  {
   "cell_type": "code",
   "execution_count": 36,
   "metadata": {},
   "outputs": [],
   "source": [
    "item = site.make_item(elements)"
   ]
  },
  {
   "cell_type": "code",
   "execution_count": 37,
   "metadata": {},
   "outputs": [
    {
     "data": {
      "text/plain": [
       "{'added': '2018-10-15T21:54:38+00:00',\n",
       " 'collection': None,\n",
       " 'element_texts': [{'element': {'id': 50,\n",
       "    'name': 'Title',\n",
       "    'resource': 'elements',\n",
       "    'url': 'https://cb51.omeka.fas.harvard.edu/api/elements/50'},\n",
       "   'element_set': {'id': 1,\n",
       "    'name': 'Dublin Core',\n",
       "    'resource': 'element_sets',\n",
       "    'url': 'https://cb51.omeka.fas.harvard.edu/api/element_sets/1'},\n",
       "   'html': False,\n",
       "   'text': 'Pendant of Three Snakes'},\n",
       "  {'element': {'id': 48,\n",
       "    'name': 'Source',\n",
       "    'resource': 'elements',\n",
       "    'url': 'https://cb51.omeka.fas.harvard.edu/api/elements/48'},\n",
       "   'element_set': {'id': 1,\n",
       "    'name': 'Dublin Core',\n",
       "    'resource': 'element_sets',\n",
       "    'url': 'https://cb51.omeka.fas.harvard.edu/api/element_sets/1'},\n",
       "   'html': True,\n",
       "   'text': \"<a href='https://www.harvardartmuseums.org/collections/object/223185'>Harvard Art Museums</a>\"},\n",
       "  {'element': {'id': 53,\n",
       "    'name': 'JSON Data',\n",
       "    'resource': 'elements',\n",
       "    'url': 'https://cb51.omeka.fas.harvard.edu/api/elements/53'},\n",
       "   'element_set': {'id': 4,\n",
       "    'name': 'IIIF File Metadata',\n",
       "    'resource': 'element_sets',\n",
       "    'url': 'https://cb51.omeka.fas.harvard.edu/api/element_sets/4'},\n",
       "   'html': False,\n",
       "   'text': '{\"@context\": \"http://iiif.io/api/presentation/2/context.json\", \"@id\": \"https://iiif.harvardartmuseums.org/manifests/object/223185\", \"@type\": \"sc:Manifest\", \"attribution\": \"Harvard Art Museums\", \"description\": \"\", \"label\": \"Pendant of Three Snakes\", \"logo\": {\"@id\": \"https://ids.lib.harvard.edu/ids/iiif/437958013/full/!800,800/0/native.jpg\", \"service\": {\"@context\": \"http://iiif.io/api/image/2/context.json\", \"@id\": \"https://ids.lib.harvard.edu/ids/iiif/437958013\", \"profile\": \"http://iiif.io/api/image/2/level2.json\"}}, \"metadata\": [{\"label\": \"Date\", \"value\": \"7th century\"}, {\"label\": \"Classification\", \"value\": \"Jewelry\"}, {\"label\": \"Credit Line\", \"value\": \"Harvard Art Museums/Busch-Reisinger Museum, Purchase in memory of Eda K. Loeb\"}, {\"label\": \"Object Number\", \"value\": \"BR58.212\"}, {\"label\": \"People\", \"value\": [\"Artist: Unidentified Artist\"]}, {\"label\": \"Medium\", \"value\": \"Bronze\"}, {\"label\": \"Dimensions\", \"value\": \"irregular: 6.5 cm (2 9/16 in.)\"}], \"rendering\": {\"@id\": \"https://www.harvardartmuseums.org/collections/object/223185\", \"format\": \"text/html\", \"label\": \"Full record view\"}, \"sequences\": [{\"@id\": \"https://iiif.harvardartmuseums.org/manifests/object/223185/sequence/normal\", \"@type\": \"sc:Sequence\", \"canvases\": [{\"@id\": \"https://iiif.harvardartmuseums.org/manifests/object/223185/canvas/canvas-20684286\", \"@type\": \"sc:Canvas\", \"height\": 801, \"images\": [{\"@id\": \"https://iiif.harvardartmuseums.org/manifests/object/223185/annotation/anno-20684286\", \"@type\": \"oa:Annotation\", \"motivation\": \"sc:painting\", \"on\": \"https://iiif.harvardartmuseums.org/manifests/object/223185/canvas/canvas-20684286\", \"resource\": {\"@id\": \"https://ids.lib.harvard.edu/ids/iiif/20684286/full/full/0/native.jpg\", \"@type\": \"dctypes:Image\", \"format\": \"image/jpeg\", \"height\": 801, \"service\": {\"@context\": \"http://iiif.io/api/image/2/context.json\", \"@id\": \"https://ids.lib.harvard.edu/ids/iiif/20684286\", \"profile\": \"http://iiif.io/api/image/2/level2.json\"}, \"width\": 1024}}], \"label\": \"center\\\\r\\\\n\", \"otherContent\": [{\"@id\": \"https://iiif.harvardartmuseums.org/manifests/object/223185/list/20684286\", \"@type\": \"sc:AnnotationList\"}], \"width\": 1024}], \"viewingHint\": \"individuals\"}], \"thumbnail\": {\"@id\": \"https://ids.lib.harvard.edu/ids/iiif/20684286/full/!170,170/0/native.jpg\", \"service\": {\"@context\": \"http://iiif.io/api/image/2/context.json\", \"@id\": \"https://ids.lib.harvard.edu/ids/iiif/20684286\", \"profile\": \"http://iiif.io/api/image/2/level2.json\"}}, \"within\": \"https://www.harvardartmuseums.org/collections\"}'},\n",
       "  {'element': {'id': 64,\n",
       "    'name': 'UUID',\n",
       "    'resource': 'elements',\n",
       "    'url': 'https://cb51.omeka.fas.harvard.edu/api/elements/64'},\n",
       "   'element_set': {'id': 5,\n",
       "    'name': 'IIIF Item Metadata',\n",
       "    'resource': 'element_sets',\n",
       "    'url': 'https://cb51.omeka.fas.harvard.edu/api/element_sets/5'},\n",
       "   'html': False,\n",
       "   'text': '4ca9fcc5-837d-4f14-8f69-5eb5ed0d8d08'}],\n",
       " 'extended_resources': {'exhibit_pages': {'count': 0,\n",
       "   'resource': 'exhibit_pages',\n",
       "   'url': 'https://cb51.omeka.fas.harvard.edu/api/exhibit_pages?item=15'}},\n",
       " 'featured': False,\n",
       " 'files': {'count': 0,\n",
       "  'resource': 'files',\n",
       "  'url': 'https://cb51.omeka.fas.harvard.edu/api/files?item=15'},\n",
       " 'id': 15,\n",
       " 'item_type': None,\n",
       " 'modified': '2018-10-15T21:54:38+00:00',\n",
       " 'owner': {'id': 1,\n",
       "  'resource': 'users',\n",
       "  'url': 'https://cb51.omeka.fas.harvard.edu/api/users/1'},\n",
       " 'public': False,\n",
       " 'tags': [],\n",
       " 'url': 'https://cb51.omeka.fas.harvard.edu/api/items/15'}"
      ]
     },
     "execution_count": 37,
     "metadata": {},
     "output_type": "execute_result"
    }
   ],
   "source": [
    "site.post_item(item)"
   ]
  },
  {
   "cell_type": "code",
   "execution_count": 40,
   "metadata": {},
   "outputs": [],
   "source": [
    "R = requests.get(\"https://cb51.omeka.fas.harvard.edu/api/items/13\")\n",
    "old = R.json()"
   ]
  },
  {
   "cell_type": "code",
   "execution_count": 41,
   "metadata": {},
   "outputs": [
    {
     "data": {
      "text/plain": [
       "13"
      ]
     },
     "execution_count": 41,
     "metadata": {},
     "output_type": "execute_result"
    }
   ],
   "source": [
    "old.pop('id')"
   ]
  },
  {
   "cell_type": "code",
   "execution_count": 42,
   "metadata": {},
   "outputs": [
    {
     "data": {
      "text/plain": [
       "{'added': '2018-10-16T15:59:52+00:00',\n",
       " 'collection': None,\n",
       " 'element_texts': [{'element': {'id': 50,\n",
       "    'name': 'Title',\n",
       "    'resource': 'elements',\n",
       "    'url': 'https://cb51.omeka.fas.harvard.edu/api/elements/50'},\n",
       "   'element_set': {'id': 1,\n",
       "    'name': 'Dublin Core',\n",
       "    'resource': 'element_sets',\n",
       "    'url': 'https://cb51.omeka.fas.harvard.edu/api/element_sets/1'},\n",
       "   'html': False,\n",
       "   'text': 'King John of France'},\n",
       "  {'element': {'id': 48,\n",
       "    'name': 'Source',\n",
       "    'resource': 'elements',\n",
       "    'url': 'https://cb51.omeka.fas.harvard.edu/api/elements/48'},\n",
       "   'element_set': {'id': 1,\n",
       "    'name': 'Dublin Core',\n",
       "    'resource': 'element_sets',\n",
       "    'url': 'https://cb51.omeka.fas.harvard.edu/api/element_sets/1'},\n",
       "   'html': False,\n",
       "   'text': 'https://iiif.harvardartmuseums.org/manifests/object/229262'},\n",
       "  {'element': {'id': 55,\n",
       "    'name': 'Original @id',\n",
       "    'resource': 'elements',\n",
       "    'url': 'https://cb51.omeka.fas.harvard.edu/api/elements/55'},\n",
       "   'element_set': {'id': 5,\n",
       "    'name': 'IIIF Item Metadata',\n",
       "    'resource': 'element_sets',\n",
       "    'url': 'https://cb51.omeka.fas.harvard.edu/api/element_sets/5'},\n",
       "   'html': False,\n",
       "   'text': 'https://iiif.harvardartmuseums.org/manifests/object/229262/canvas/canvas-12551058'},\n",
       "  {'element': {'id': 56,\n",
       "    'name': 'JSON Data',\n",
       "    'resource': 'elements',\n",
       "    'url': 'https://cb51.omeka.fas.harvard.edu/api/elements/56'},\n",
       "   'element_set': {'id': 5,\n",
       "    'name': 'IIIF Item Metadata',\n",
       "    'resource': 'element_sets',\n",
       "    'url': 'https://cb51.omeka.fas.harvard.edu/api/element_sets/5'},\n",
       "   'html': False,\n",
       "   'text': '{\"@id\":\"https://iiif.harvardartmuseums.org/manifests/object/229262/canvas/canvas-12551058\",\"@type\":\"sc:Canvas\",\"height\":1009,\"images\":[{\"@id\":\"https://iiif.harvardartmuseums.org/manifests/object/229262/annotation/anno-12551058\",\"@type\":\"oa:Annotation\",\"motivation\":\"sc:painting\",\"on\":\"https://iiif.harvardartmuseums.org/manifests/object/229262/canvas/canvas-12551058\",\"resource\":{\"@id\":\"https://ids.lib.harvard.edu/ids/iiif/12551058/full/full/0/native.jpg\",\"@type\":\"dctypes:Image\",\"format\":\"image/jpeg\",\"height\":1009,\"service\":{\"@context\":\"http://iiif.io/api/image/2/context.json\",\"@id\":\"https://ids.lib.harvard.edu/ids/iiif/12551058\",\"profile\":\"http://iiif.io/api/image/2/level2.json\"},\"width\":1024}}],\"label\":\"1\",\"otherContent\":[{\"@id\":\"https://iiif.harvardartmuseums.org/manifests/object/229262/list/12551058\",\"@type\":\"sc:AnnotationList\"}],\"width\":1024}'},\n",
       "  {'element': {'id': 64,\n",
       "    'name': 'UUID',\n",
       "    'resource': 'elements',\n",
       "    'url': 'https://cb51.omeka.fas.harvard.edu/api/elements/64'},\n",
       "   'element_set': {'id': 5,\n",
       "    'name': 'IIIF Item Metadata',\n",
       "    'resource': 'element_sets',\n",
       "    'url': 'https://cb51.omeka.fas.harvard.edu/api/element_sets/5'},\n",
       "   'html': False,\n",
       "   'text': 'c3a19ed2-38e9-4a0d-9b8b-43ee5a1f3a60'},\n",
       "  {'element': {'id': 64,\n",
       "    'name': 'UUID',\n",
       "    'resource': 'elements',\n",
       "    'url': 'https://cb51.omeka.fas.harvard.edu/api/elements/64'},\n",
       "   'element_set': {'id': 5,\n",
       "    'name': 'IIIF Item Metadata',\n",
       "    'resource': 'element_sets',\n",
       "    'url': 'https://cb51.omeka.fas.harvard.edu/api/element_sets/5'},\n",
       "   'html': False,\n",
       "   'text': 'ad4c594d-abd4-4a14-aa73-5b3817e21ad2'}],\n",
       " 'extended_resources': {'exhibit_pages': {'count': 0,\n",
       "   'resource': 'exhibit_pages',\n",
       "   'url': 'https://cb51.omeka.fas.harvard.edu/api/exhibit_pages?item=16'}},\n",
       " 'featured': True,\n",
       " 'files': {'count': 0,\n",
       "  'resource': 'files',\n",
       "  'url': 'https://cb51.omeka.fas.harvard.edu/api/files?item=16'},\n",
       " 'id': 16,\n",
       " 'item_type': None,\n",
       " 'modified': '2018-10-16T15:59:52+00:00',\n",
       " 'owner': {'id': 1,\n",
       "  'resource': 'users',\n",
       "  'url': 'https://cb51.omeka.fas.harvard.edu/api/users/1'},\n",
       " 'public': True,\n",
       " 'tags': [],\n",
       " 'url': 'https://cb51.omeka.fas.harvard.edu/api/items/16'}"
      ]
     },
     "execution_count": 42,
     "metadata": {},
     "output_type": "execute_result"
    }
   ],
   "source": [
    "site.post_item(old)"
   ]
  },
  {
   "cell_type": "code",
   "execution_count": 64,
   "metadata": {},
   "outputs": [],
   "source": [
    "R = requests.get(\"https://cb51.omeka.fas.harvard.edu/api/items/24?key=630d3045363b980294b3fed669f37c67d785bb9b\")\n",
    "old = R.json()"
   ]
  },
  {
   "cell_type": "code",
   "execution_count": 76,
   "metadata": {},
   "outputs": [],
   "source": [
    "import json"
   ]
  },
  {
   "cell_type": "code",
   "execution_count": 82,
   "metadata": {},
   "outputs": [
    {
     "data": {
      "text/plain": [
       "'{\"id\":18,\"url\":\"https:\\\\/\\\\/cb51.omeka.fas.harvard.edu\\\\/api\\\\/files\\\\/18\",\"file_urls\":{\"original\":\"http:\\\\/\\\\/s3.amazonaws.com\\\\/oaas-files%2Fcb51%2Foriginal%2Fb8fe36baa1672354c3aedc8c68417f6e.jpg\",\"fullsize\":\"http:\\\\/\\\\/s3.amazonaws.com\\\\/oaas-files%2Fcb51%2Ffullsize%2Fb8fe36baa1672354c3aedc8c68417f6e.jpg\",\"thumbnail\":\"http:\\\\/\\\\/s3.amazonaws.com\\\\/oaas-files%2Fcb51%2Fthumbnails%2Fb8fe36baa1672354c3aedc8c68417f6e.jpg\",\"square_thumbnail\":\"http:\\\\/\\\\/s3.amazonaws.com\\\\/oaas-files%2Fcb51%2Fsquare_thumbnails%2Fb8fe36baa1672354c3aedc8c68417f6e.jpg\"},\"added\":\"2018-10-16T16:44:13+00:00\",\"modified\":\"2018-10-16T16:44:14+00:00\",\"filename\":\"b8fe36baa1672354c3aedc8c68417f6e.jpg\",\"authentication\":\"c53a14995e9de8886daf2535b8e7679d\",\"has_derivative_image\":true,\"mime_type\":\"image\\\\/jpeg\",\"order\":null,\"original_filename\":\"1200px-US_Capitol_west_side.jpg\",\"size\":291831,\"stored\":true,\"type_os\":\"JPEG image data, JFIF standard 1.02, resolution (DPI), density 600x600, segment length 16, baseline, precision 8, 2401x1242, frames 3\",\"metadata\":{\"mime_type\":\"image\\\\/jpeg\",\"video\":{\"dataformat\":\"jpg\",\"lossless\":false,\"bits_per_sample\":24,\"pixel_aspect_ratio\":1,\"resolution_x\":2401,\"resolution_y\":1242,\"compression_ratio\":0.032620935587091}},\"item\":{\"id\":24,\"url\":\"https:\\\\/\\\\/cb51.omeka.fas.harvard.edu\\\\/api\\\\/items\\\\/24\",\"resource\":\"items\"},\"element_texts\":[],\"extended_resources\":[]}'"
      ]
     },
     "execution_count": 82,
     "metadata": {},
     "output_type": "execute_result"
    }
   ],
   "source": [
    "R.text"
   ]
  },
  {
   "cell_type": "code",
   "execution_count": 68,
   "metadata": {},
   "outputs": [
    {
     "data": {
      "text/plain": [
       "'https://cb51.omeka.fas.harvard.edu/api/files?key=630d3045363b980294b3fed669f37c67d785bb9b'"
      ]
     },
     "execution_count": 68,
     "metadata": {},
     "output_type": "execute_result"
    }
   ],
   "source": [
    "R.url"
   ]
  },
  {
   "cell_type": "code",
   "execution_count": null,
   "metadata": {},
   "outputs": [],
   "source": [
    "payload = {\"param_1\": \"value_1\", \"param_2\": \"value_2\"}\n",
    "files = {\n",
    "     'json': (None, json.dumps(payload), 'application/json'),\n",
    "     'file': (os.path.basename(file), open(file, 'rb'), 'application/octet-stream')\n",
    "}\n",
    "\n",
    "r = requests.post(url, files=files)"
   ]
  },
  {
   "cell_type": "code",
   "execution_count": 5,
   "metadata": {},
   "outputs": [
    {
     "data": {
      "text/plain": [
       "{'info': {'page': 1,\n",
       "  'pages': 1,\n",
       "  'totalrecords': 1,\n",
       "  'totalrecordsperquery': 10},\n",
       " 'records': [{'accessionmethod': 'Gift',\n",
       "   'accessionyear': 1965,\n",
       "   'accesslevel': 1,\n",
       "   'century': '15th century',\n",
       "   'classification': 'Vessels',\n",
       "   'classificationid': 57,\n",
       "   'colorcount': 0,\n",
       "   'commentary': None,\n",
       "   'contact': 'am_europeanamerican@harvard.edu',\n",
       "   'contextualtextcount': 0,\n",
       "   'copyright': None,\n",
       "   'creditline': 'Harvard Art Museums/Busch-Reisinger Museum, Gift of Mrs. George S. Selfridge',\n",
       "   'culture': 'German',\n",
       "   'datebegin': 0,\n",
       "   'dated': '15th century',\n",
       "   'dateend': 0,\n",
       "   'dateoffirstpageview': '2010-03-29',\n",
       "   'dateoflastpageview': '2018-10-06',\n",
       "   'department': 'Busch-Reisinger Museum',\n",
       "   'description': None,\n",
       "   'dimensions': '26.67 cm (10 1/2 in.)',\n",
       "   'division': 'European and American Art',\n",
       "   'edition': None,\n",
       "   'exhibitioncount': 2,\n",
       "   'groupcount': 0,\n",
       "   'id': 222649,\n",
       "   'imagecount': 1,\n",
       "   'imagepermissionlevel': 0,\n",
       "   'images': [{'baseimageurl': 'https://nrs.harvard.edu/urn-3:HUAM:VRS63344_dynmc',\n",
       "     'copyright': 'President and Fellows of Harvard College',\n",
       "     'displayorder': 1,\n",
       "     'format': 'image/jpeg',\n",
       "     'height': 0,\n",
       "     'idsid': 20683958,\n",
       "     'iiifbaseuri': 'https://ids.lib.harvard.edu/ids/iiif/20683958',\n",
       "     'imageid': 132400,\n",
       "     'publiccaption': None,\n",
       "     'renditionnumber': '63344',\n",
       "     'width': 0}],\n",
       "   'labeltext': None,\n",
       "   'lastupdate': '2018-10-12T04:37:45-0400',\n",
       "   'markscount': 0,\n",
       "   'mediacount': 0,\n",
       "   'medium': 'Brass',\n",
       "   'objectid': 222649,\n",
       "   'objectnumber': 'BR65.56',\n",
       "   'peoplecount': 0,\n",
       "   'period': None,\n",
       "   'periodid': None,\n",
       "   'primaryimageurl': 'https://nrs.harvard.edu/urn-3:HUAM:VRS63344_dynmc',\n",
       "   'provenance': None,\n",
       "   'publicationcount': 0,\n",
       "   'rank': 153638,\n",
       "   'relatedcount': 0,\n",
       "   'seeAlso': [{'format': 'application/json',\n",
       "     'id': 'https://iiif.harvardartmuseums.org/manifests/object/222649',\n",
       "     'profile': 'http://iiif.io/api/presentation/2/context.json',\n",
       "     'type': 'IIIF Manifest'}],\n",
       "   'signed': None,\n",
       "   'standardreferencenumber': None,\n",
       "   'state': None,\n",
       "   'style': None,\n",
       "   'technique': None,\n",
       "   'techniqueid': None,\n",
       "   'title': 'Bowl with St. George and the Dragon',\n",
       "   'titlescount': 1,\n",
       "   'totalpageviews': 36,\n",
       "   'totaluniquepageviews': 32,\n",
       "   'url': 'https://www.harvardartmuseums.org/collections/object/222649',\n",
       "   'verificationlevel': 0,\n",
       "   'verificationleveldescription': 'Unchecked. Object information has not been verified for completeness and has not been vetted',\n",
       "   'worktypes': [{'worktype': 'vessel', 'worktypeid': '389'}]}]}"
      ]
     },
     "execution_count": 5,
     "metadata": {},
     "output_type": "execute_result"
    }
   ],
   "source": [
    "R.json()"
   ]
  },
  {
   "cell_type": "markdown",
   "metadata": {},
   "source": [
    "- Get base info, including title and object id\n",
    "- get manifest url, manifest in text\n",
    "- create item with other codebase\n",
    "- add item"
   ]
  }
 ],
 "metadata": {
  "kernelspec": {
   "display_name": "Python 3",
   "language": "python",
   "name": "python3"
  },
  "language_info": {
   "codemirror_mode": {
    "name": "ipython",
    "version": 3
   },
   "file_extension": ".py",
   "mimetype": "text/x-python",
   "name": "python",
   "nbconvert_exporter": "python",
   "pygments_lexer": "ipython3",
   "version": "3.6.4"
  }
 },
 "nbformat": 4,
 "nbformat_minor": 2
}
