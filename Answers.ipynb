{
 "cells": [
  {
   "cell_type": "code",
   "execution_count": null,
   "metadata": {},
   "outputs": [],
   "source": [
    "import requests\n",
    "APIKEY = \"b0cde630-ce66-11e8-951c-b3d75228cc98\"\n",
    "USERNAME = \"cdc43339\""
   ]
  },
  {
   "cell_type": "code",
   "execution_count": null,
   "metadata": {},
   "outputs": [],
   "source": [
    "# Changing request\n",
    "parameters = {\n",
    "    \"size\":10,\n",
    "    \"apikey\":APIKEY,\n",
    "    \"sort\": \"totalpageviews\",\n",
    "    \"sortorder\": \"desc\"\n",
    "}\n",
    "R = requests.get(url,params=parameters)\n",
    "R.json()"
   ]
  },
  {
   "cell_type": "code",
   "execution_count": null,
   "metadata": {},
   "outputs": [],
   "source": [
    "# Van Gogh Exercise\n",
    "personurl = \"https://api.harvardartmuseums.org/person\"\n",
    "van_gogh_parameters = {\n",
    "    \"apikey\":APIKEY,\n",
    "    \"q\":\"displayname:Van Gogh\",\n",
    "    \"size\":10\n",
    "\n",
    "}\n",
    "R = requests.get(personurl,params=van_gogh_parameters)\n",
    "for record in R.json()['records']:\n",
    "    print(\"{}: {}\".format(record['alphasort'], record['id']))\n",
    "    \n",
    "van_gogh_works_params = {\n",
    "    \"apikey\": APIKEY,\n",
    "    \"person\": 22730,\n",
    "    \"size\": 100,\n",
    "    \"hasimage\": 1\n",
    "}\n",
    "R = requests.get(url, params=van_gogh_works_params)\n",
    "for record in R.json()['records']:\n",
    "    print(\"{} - {}\".format(record['title'],record['url']))"
   ]
  },
  {
   "cell_type": "code",
   "execution_count": null,
   "metadata": {},
   "outputs": [],
   "source": [
    "def ham_query(apikey, endpoint, **kwargs):\n",
    "    \"\"\"Sends kwargs to the specified endpoint, using apikey for authentication\"\"\"\n",
    "    params = kwargs\n",
    "    params['apikey'] = apikey\n",
    "    url = \"https://api.harvardartmuseums.org/{}\".format(endpoint)\n",
    "    R = requests.get(url,params=params)\n",
    "    return R"
   ]
  },
  {
   "cell_type": "code",
   "execution_count": null,
   "metadata": {},
   "outputs": [],
   "source": [
    "def ham_query_with_id(apikey, endpoint, ID, **kwargs):\n",
    "    \"\"\"Sends kwargs to the specified endpoint, using apikey for authentication. ID is a required arg (appears in the route)\"\"\"\n",
    "    params = kwargs\n",
    "    params['apikey'] = apikey\n",
    "    url = \"https://api.harvardartmuseums.org/{}/{}\".format(endpoint,ID)\n",
    "    R = requests.get(url,params=params)\n",
    "    return R"
   ]
  },
  {
   "cell_type": "code",
   "execution_count": null,
   "metadata": {},
   "outputs": [],
   "source": [
    "response = ham_query(APIKEY, \"exhibition\", status=\"current\", size=100)\n",
    "current_exhibits = response.json()['records']"
   ]
  },
  {
   "cell_type": "code",
   "execution_count": null,
   "metadata": {},
   "outputs": [],
   "source": [
    "for ex in current_exhibits:\n",
    "    exhibit = ham_query(APIKEY, \"object\", exhibition=ex['id'], size=100).json()\n",
    "    total_peoplecount = 0\n",
    "    for record in exhibit['records']:\n",
    "        total_peoplecount += record['peoplecount']\n",
    "    print(\"{} - id: {}, total peoplecount: {}\".format(ex['title'], ex['id'], total_peoplecount))"
   ]
  },
  {
   "cell_type": "code",
   "execution_count": null,
   "metadata": {},
   "outputs": [],
   "source": [
    "peoplecounts = []\n",
    "for ex in current_exhibits:\n",
    "    exhibit = ham_query(APIKEY, \"object\", exhibition=ex['id'], size=100).json()\n",
    "    total_peoplecount = 0\n",
    "    for record in exhibit['records']:\n",
    "        total_peoplecount += record['peoplecount']\n",
    "    peoplecounts.append({\n",
    "        \"id\": ex['id'],\n",
    "        \"title\": ex['title'],\n",
    "        \"peoplecount\": total_peoplecount\n",
    "    })\n",
    "peoplecounts.sort(key = lambda x: x['peoplecount'], reverse=True)\n",
    "\n",
    "for ex in peoplecounts:\n",
    "    print(\"{} - id: {}, total peoplecount: {}\".format(ex['title'], ex['id'], ex['peoplecount']))"
   ]
  },
  {
   "cell_type": "markdown",
   "metadata": {},
   "source": [
    "It looks like \"Winslow Homer: Eyewitness\" and \"Crossing Lines, Constructing Home: Displacement and Belonging in Contemporary Art\" are our best candidates."
   ]
  },
  {
   "cell_type": "code",
   "execution_count": null,
   "metadata": {},
   "outputs": [],
   "source": [
    "homer = ham_query(APIKEY, \"object\", exhibition=5660, size=200).json()\n",
    "homer['exhibition_info'] = ham_query_with_id(APIKEY, endpoint=\"exhibition\", ID=5660).json()\n",
    "\n",
    "crossing_lines = ham_query(APIKEY, \"object\", exhibition=5834, size=200).json()\n",
    "crossing_lines['exhibition_info'] = ham_query_with_id(APIKEY, endpoint=\"exhibition\", ID=5834).json()"
   ]
  },
  {
   "cell_type": "code",
   "execution_count": null,
   "metadata": {},
   "outputs": [],
   "source": [
    "def search_place(placename):\n",
    "    url = \"http://api.geonames.org/searchJSON\"\n",
    "    Q = {\n",
    "        'q':placename,\n",
    "        'username':USERNAME,\n",
    "    }\n",
    "    results = requests.get(url,params=Q).json()\n",
    "    top_result = results['geonames'][0]\n",
    "    return top_result['lat'], top_result['lng']"
   ]
  },
  {
   "cell_type": "code",
   "execution_count": null,
   "metadata": {},
   "outputs": [],
   "source": [
    "def get_people_from_exhibit(exhibit):\n",
    "    exhibit_people = {}\n",
    "    for record in exhibit['records']:\n",
    "        if record['peoplecount'] > 0:\n",
    "            obj = record['people']\n",
    "        for person in obj:\n",
    "            if person['birthplace'] is not None:\n",
    "                person['birthplace_coordinates'] = search_place(person['birthplace'])\n",
    "            if person['deathplace'] is not None:\n",
    "                person['deathplace_coordinates'] = search_place(person['deathplace'])\n",
    "        exhibit_people[record['id']] = obj\n",
    "    return exhibit_people\n",
    "\n",
    "crossing_lines['people'] = get_people_from_exhibit(crossing_lines)\n",
    "homer['people'] = get_people_from_exhibit(homer)\n",
    "\n",
    "print(crossing_lines['people'])\n",
    "\n",
    "# crossing_lines_people = get_people_from_exhibit(crossing_lines)\n",
    "# homer_people = get_people_from_exhibit(homer)\n",
    "             \n",
    "# for record in crossing_lines['records']:\n",
    "# #     if 'peoplecount' in record:\n",
    "# #         print(record['peoplecouht'])\n",
    "#     if record['peoplecount'] > 0:\n",
    "#         obj = record['people']\n",
    "#         for person in obj:\n",
    "#             if person['birthplace'] is not None:\n",
    "#                 person['birthplace_coordinates'] = search_place(person['birthplace'])\n",
    "#             if person['deathplace'] is not None:\n",
    "#                 person['deathplace_coordinates'] = search_place(person['deathplace'])\n",
    "#         people[record['id']] = obj"
   ]
  },
  {
   "cell_type": "code",
   "execution_count": null,
   "metadata": {},
   "outputs": [],
   "source": [
    "for painting in crossing_lines['people']:\n",
    "    people = crossing_lines['people'][painting]\n",
    "#     print(people)\n",
    "    for person in people:\n",
    "        print(person['alphasort'])"
   ]
  },
  {
   "cell_type": "code",
   "execution_count": null,
   "metadata": {},
   "outputs": [],
   "source": [
    "# from ipyleaflet import *\n",
    "# m = Map(zoom=8, basemap=basemaps.Esri.DeLorme)\n",
    "\n",
    "# # print(people)\n",
    "\n",
    "# birthicon = Icon(icon_url='https://leafletjs.com/examples/custom-icons/leaf-green.png', icon_size=[38, 95], icon_anchor=[22,94])\n",
    "\n",
    "# for painting_id in people:\n",
    "# #     print(people[person]['birthplace_coordinates'])\n",
    "#     p = people[painting_id]\n",
    "#     for person in p:\n",
    "#         if 'birthplace_coordinates' in person:\n",
    "#             center = person['birthplace_coordinates']\n",
    "#             marker = Marker(location=center, icon=birthicon)\n",
    "#             m.add_layer(marker)\n",
    "# # print(person['birthplace_coordinates'])\n",
    "# #     print(type(p['birthpace_coordinates']))\n",
    "# #     center = p['birthplace_coordinates']\n",
    "# #    print(center)\n",
    "# #     marker = Marker(location=center)\n",
    "# #     m.add(marker)\n",
    "\n",
    "# # center = (52.204793, 360.121558)\n",
    "# # m = Map(center=center, zoom=15)\n",
    "# # marker = Marker(location=center, draggable=False)\n",
    "# # m.add_layer(marker);\n",
    "\n",
    "# m"
   ]
  },
  {
   "cell_type": "code",
   "execution_count": null,
   "metadata": {},
   "outputs": [],
   "source": [
    "def add_people_to_map(people, leaflet_map, birth_color=\"green\", death_color=\"red\", exhibit_name=None):\n",
    "    for painting_id in people:\n",
    "        p = people[painting_id]\n",
    "        for person in p:\n",
    "            if 'birthplace_coordinates' in person:\n",
    "                if exhibit_name is not None:\n",
    "                    label = '<h4>{}</h4><div style=\"font-weight:bold\">{}</div>{}, {}'.format(exhibit_name, person['displayname'], person['displaydate'], person['birthplace'])\n",
    "                else:\n",
    "                    label = '<div style=\"font-weight:bold\">{}</div>{}, {}'.format(person['displayname'], person['displaydate'], person['birthplace'])\n",
    "                folium.Marker(\n",
    "                    location = person['birthplace_coordinates'],\n",
    "                    popup = label,\n",
    "                    icon=folium.Icon(color=birth_color)\n",
    "                ).add_to(leaflet_map)\n",
    "            if 'deathplace_coordinates' in person:\n",
    "                if exhibit_name is not None:\n",
    "                    label = '<h4>{}</h4><div style=\"font-weight:bold\">{}</div>died {}'.format(exhibit_name, person['displayname'], person['deathplace'])\n",
    "                else:\n",
    "                    label = '<div style=\"font-weight:bold\">{}</div>died {}'.format(person['displayname'], person['deathplace'])\n",
    "                folium.Marker(\n",
    "                    location = person['deathplace_coordinates'],\n",
    "                    popup = label,\n",
    "                    icon=folium.Icon(color=death_color)\n",
    "                ).add_to(leaflet_map)\n",
    "\n",
    "add_people_to_map(crossing_lines['people'], people_map, birth_color=\"blue\", death_color=\"orange\", exhibit_name=crossing_lines['exhibition_info']['title'])\n",
    "add_people_to_map(homer['people'], people_map, exhibit_name=homer['exhibition_info']['title'])\n",
    "people_map\n",
    "# for painting_id in people:\n",
    "#     p = people[painting_id]\n",
    "#     for person in p:\n",
    "#         if 'birthplace_coordinates' in person:\n",
    "#             label = '<div style=\"font-weight:bold\">{}</div>{}, {}'.format(person['displayname'], person['displaydate'], person['birthplace'])\n",
    "#             folium.Marker(\n",
    "#                 location = person['birthplace_coordinates'],\n",
    "#                 popup = label,\n",
    "#                 icon=folium.Icon(color='green')\n",
    "#             ).add_to(map)\n",
    "#         if 'deathplace_coordinates' in person:\n",
    "#             label = '<div style=\"font-weight:bold\">{}</div> {}'.format(person['displayname'], person['deathplace'])\n",
    "#             folium.Marker(\n",
    "#                 location = person['deathplace_coordinates'],\n",
    "#                 popup = label,\n",
    "#                 icon=folium.Icon(color='red')\n",
    "#             ).add_to(map)"
   ]
  }
 ],
 "metadata": {
  "kernelspec": {
   "display_name": "Python 3",
   "language": "python",
   "name": "python3"
  },
  "language_info": {
   "codemirror_mode": {
    "name": "ipython",
    "version": 3
   },
   "file_extension": ".py",
   "mimetype": "text/x-python",
   "name": "python",
   "nbconvert_exporter": "python",
   "pygments_lexer": "ipython3"
  }
 },
 "nbformat": 4,
 "nbformat_minor": 4
}
