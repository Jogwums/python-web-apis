{
 "cells": [
  {
   "cell_type": "markdown",
   "metadata": {},
   "source": [
    "## New York Times Article Search API\n",
    "We just showed how to use the NYT Article Search API through their web interface. Let's take a quick look at how we'd write the same query programmatically in Python.\n",
    "\n",
    "Sometimes APIs have wrappers that allow you interact with them more easily - there's a Python wrapper for the NYT API here https://github.com/MattDMo/NYTimesArticleAPI, for example. For complex APIs, these can be worth looking into, but for simpler APIs, the request library is all you need."
   ]
  },
  {
   "cell_type": "markdown",
   "metadata": {},
   "source": [
    "Let's import the [requests](http://docs.python-requests.org/en/master/) and json libraries - Jeremy will talk more about these shortly when we look at GeoNames."
   ]
  },
  {
   "cell_type": "code",
   "execution_count": null,
   "metadata": {},
   "outputs": [],
   "source": [
    "import requests\n",
    "import json"
   ]
  },
  {
   "cell_type": "markdown",
   "metadata": {},
   "source": [
    "Add your API Key ..."
   ]
  },
  {
   "cell_type": "code",
   "execution_count": 22,
   "metadata": {},
   "outputs": [],
   "source": [
    "NYT_apikey = 'YOURAPIKEY'"
   ]
  },
  {
   "cell_type": "markdown",
   "metadata": {},
   "source": [
    "We need a base URL for the API:"
   ]
  },
  {
   "cell_type": "code",
   "execution_count": null,
   "metadata": {},
   "outputs": [],
   "source": [
    "url = 'https://api.nytimes.com/svc/search/v2/articlesearch.json'"
   ]
  },
  {
   "cell_type": "markdown",
   "metadata": {},
   "source": [
    "Let's add our query parameters:"
   ]
  },
  {
   "cell_type": "code",
   "execution_count": null,
   "metadata": {},
   "outputs": [],
   "source": [
    "Q = {\n",
    "    'q':'cryptocurrency',\n",
    "    'api-key':NYT_apikey\n",
    "}"
   ]
  },
  {
   "cell_type": "markdown",
   "metadata": {},
   "source": [
    "And now let's get our data and dump it out:"
   ]
  },
  {
   "cell_type": "code",
   "execution_count": null,
   "metadata": {},
   "outputs": [],
   "source": [
    "R = requests.get(url,params=Q)\n",
    "R.json()"
   ]
  },
  {
   "cell_type": "markdown",
   "metadata": {},
   "source": [
    "## GET Requests\n",
    "At the top of the NYT Article Search API, you can see that there's a dropdown menu that says GET articlesearch.json. This refers to the type of request that we're sending. Every time you navigate to a new webpage or download an asset such as an image or stylesheet, you perform a GET request.\n",
    "\n",
    "Our GET request from the NYT API actually looks like:\n",
    "https://api.nytimes.com/svc/search/v2/articlesearch.json?q=cryptocurrency&apikey=YOURAPIKEY&sort=oldest&begin_date=20100101&end_date=20141212\n",
    "\n",
    "If you swap out the API Key in the above URL and paste it into your browser bar (or CURL it on the command line), you should see results! Let's break down what the GET request consists of:\n",
    "\n",
    "#### Base URL: https://api.nytimes.com\n",
    "\n",
    "#### API: /svc/search\n",
    "\n",
    "#### API Version: /v2\n",
    "Hopefully the service you're using versions their API, so major changes that will break your applications or research workflow get pushed into new versions rather than applied in place!\n",
    "\n",
    "#### Endpoint and format: /articlesearch.json\n",
    "This is the actual page that you're requesting, in a particular format (JSON). JSON is the modern standard for web data because it's easy to parse, though you'll likely encounter XML, and some older services may even be using SGML or some other format.\n",
    "\n",
    "If you don't have a JSON formatter plugin for your web browser, you can \"prettify\" JSON objects through a service such as http://jsonformatter.org/52f530. I'd recommend installing the [JSON Formatter](https://chrome.google.com/webstore/detail/json-formatter/bcjindcccaagfpapjjmafapmmgkkhgoa) and [XML Tree](https://chrome.google.com/webstore/detail/xml-tree/gbammbheopgpmaagmckhpjbfgdfkpadb) plugins if you're running Chrome.\n",
    "\n",
    "#### Query String Separator: ?\n",
    "This separates the requested page from your query parameters.\n",
    "\n",
    "#### [Query String](https://en.wikipedia.org/wiki/Query_string): q=cryptocurrency&apikey=YOURAPIKEY&sort=oldest&begin_date=20100101&end_date=20141212\n",
    "These are our query parameters. The structure is  \n",
    "parameter_name=parameter  \n",
    "Multiple parameters can be chained together with &.  \n",
    "Some symbols need to be explicitly rendered - this is why spaces turn into %20 in your address bar.\n",
    "\n",
    "## Other HTTP Requests\n",
    "GET allows us to get data, while other HTTP methods allow us to add (POST) or remove (DELETE) it. We'll look at these a bit later. For now, let's dive into geocoding data through the GeoNames API!"
   ]
  },
  {
   "cell_type": "code",
   "execution_count": null,
   "metadata": {},
   "outputs": [],
   "source": []
  }
 ],
 "metadata": {
  "kernelspec": {
   "display_name": "Python 3",
   "language": "python",
   "name": "python3"
  },
  "language_info": {
   "codemirror_mode": {
    "name": "ipython",
    "version": 3
   },
   "file_extension": ".py",
   "mimetype": "text/x-python",
   "name": "python",
   "nbconvert_exporter": "python",
   "pygments_lexer": "ipython3",
   "version": "3.6.4"
  }
 },
 "nbformat": 4,
 "nbformat_minor": 2
}
